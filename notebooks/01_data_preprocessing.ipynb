{
 "cells": [
  {
   "cell_type": "markdown",
   "id": "c4bb7ab5",
   "metadata": {},
   "source": [
    "# Senitiview"
   ]
  },
  {
   "cell_type": "markdown",
   "id": "d8f09112",
   "metadata": {},
   "source": [
    "1. schritt -"
   ]
  },
  {
   "cell_type": "code",
   "execution_count": null,
   "id": "729cff60",
   "metadata": {
    "vscode": {
     "languageId": "plaintext"
    }
   },
   "outputs": [],
   "source": []
  },
  {
   "cell_type": "markdown",
   "id": "e0b0007c",
   "metadata": {},
   "source": [
    "2. schritt -"
   ]
  }
 ],
 "metadata": {
  "language_info": {
   "name": "python"
  }
 },
 "nbformat": 4,
 "nbformat_minor": 5
}
